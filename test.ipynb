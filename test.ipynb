{
 "cells": [
  {
   "cell_type": "code",
   "execution_count": 1,
   "metadata": {},
   "outputs": [],
   "source": [
    "import numpy as np\n",
    "import pandas as pd"
   ]
  },
  {
   "cell_type": "code",
   "execution_count": 130,
   "metadata": {},
   "outputs": [
    {
     "name": "stdout",
     "output_type": "stream",
     "text": [
      "(array([    8,    12,    16, ..., 13785, 13809, 13814], dtype=int64),)\n",
      "0으로만 채워진 임베딩 벡터가 2763개 있습니다.\n",
      "0으로만 채워진 임베딩 벡터가 없습니다.\n"
     ]
    }
   ],
   "source": [
    "data_path = 'data\\ML25M\\BPR_cv\\BPR_ivec_0.npy'\n",
    "item = np.load(data_path)\n",
    "zero_embeddings = np.all(item == 0, axis=1)\n",
    "if np.any(zero_embeddings):\n",
    "    print(np.where(zero_embeddings == True))\n",
    "    print(f\"0으로만 채워진 임베딩 벡터가 {np.sum(zero_embeddings)}개 있습니다.\")\n",
    "else:\n",
    "    print(\"0으로만 채워진 임베딩 벡터가 없습니다.\")\n",
    "\n",
    "\n",
    "data_path = 'data/ML25M/mv-tag-emb.npy'\n",
    "tag = np.load(data_path)\n",
    "zero_embeddings = np.all(tag == 0, axis=1)\n",
    "\n",
    "if np.any(zero_embeddings):\n",
    "    print(zero_embeddings.index(True))\n",
    "    print(f\"0으로만 채워진 임베딩 벡터가 {np.sum(zero_embeddings)}개 있습니다.\")\n",
    "else:\n",
    "    print(\"0으로만 채워진 임베딩 벡터가 없습니다.\")"
   ]
  },
  {
   "cell_type": "code",
   "execution_count": 2,
   "metadata": {},
   "outputs": [
    {
     "name": "stdout",
     "output_type": "stream",
     "text": [
      "13816\n"
     ]
    }
   ],
   "source": [
    "data_path = 'data\\ML25M\\BPR_cv\\BPR_ivec_0.npy'\n",
    "items = np.load(data_path)\n",
    "min_val = np.inf\n",
    "max_val = -np.inf\n",
    "for item in items:\n",
    "    if min_val > min(item):\n",
    "        min_val = min(item)\n",
    "\n",
    "    if max_val < max(item):\n",
    "        max_val = max(item)\n",
    "\n",
    "print(len(items))"
   ]
  },
  {
   "cell_type": "code",
   "execution_count": 66,
   "metadata": {},
   "outputs": [
    {
     "name": "stdout",
     "output_type": "stream",
     "text": [
      "   uid   mid  rating\n",
      "0    0   292     3.5\n",
      "1    0   293     5.0\n",
      "2    0   985     4.0\n",
      "3    0  1054     3.5\n",
      "4    0  1093     3.5\n"
     ]
    },
    {
     "data": {
      "text/html": [
       "<div>\n",
       "<style scoped>\n",
       "    .dataframe tbody tr th:only-of-type {\n",
       "        vertical-align: middle;\n",
       "    }\n",
       "\n",
       "    .dataframe tbody tr th {\n",
       "        vertical-align: top;\n",
       "    }\n",
       "\n",
       "    .dataframe thead th {\n",
       "        text-align: right;\n",
       "    }\n",
       "</style>\n",
       "<table border=\"1\" class=\"dataframe\">\n",
       "  <thead>\n",
       "    <tr style=\"text-align: right;\">\n",
       "      <th></th>\n",
       "      <th>uid</th>\n",
       "      <th>mid</th>\n",
       "      <th>rating</th>\n",
       "    </tr>\n",
       "  </thead>\n",
       "  <tbody>\n",
       "    <tr>\n",
       "      <th>0</th>\n",
       "      <td>0</td>\n",
       "      <td>292</td>\n",
       "      <td>3.5</td>\n",
       "    </tr>\n",
       "    <tr>\n",
       "      <th>1</th>\n",
       "      <td>0</td>\n",
       "      <td>6808</td>\n",
       "      <td>4.0</td>\n",
       "    </tr>\n",
       "    <tr>\n",
       "      <th>2</th>\n",
       "      <td>0</td>\n",
       "      <td>6839</td>\n",
       "      <td>3.5</td>\n",
       "    </tr>\n",
       "    <tr>\n",
       "      <th>3</th>\n",
       "      <td>0</td>\n",
       "      <td>7039</td>\n",
       "      <td>4.0</td>\n",
       "    </tr>\n",
       "    <tr>\n",
       "      <th>4</th>\n",
       "      <td>0</td>\n",
       "      <td>7097</td>\n",
       "      <td>3.0</td>\n",
       "    </tr>\n",
       "  </tbody>\n",
       "</table>\n",
       "</div>"
      ],
      "text/plain": [
       "   uid   mid  rating\n",
       "0    0   292     3.5\n",
       "1    0  6808     4.0\n",
       "2    0  6839     3.5\n",
       "3    0  7039     4.0\n",
       "4    0  7097     3.0"
      ]
     },
     "execution_count": 66,
     "metadata": {},
     "output_type": "execute_result"
    }
   ],
   "source": [
    "import pandas as pd\n",
    "\n",
    "train_path = 'data\\ML25M\\BPR_cv\\BPR_tr_0.tsv'\n",
    "vali_path = 'data\\ML25M\\BPR_cv\\BPR_val_0.tsv'\n",
    "test_path = 'data\\ML25M\\BPR_cv\\BPR_test_0.tsv'\n",
    "# Reload the cold_movies_vali_0.tsv file without the header\n",
    "train_df = pd.read_csv(train_path, sep='\\t', header=0)\n",
    "vali_df = pd.read_csv(vali_path, sep='\\t', header=0)\n",
    "test_df = pd.read_csv(test_path, sep='\\t', header=0)\n",
    "\n",
    "# Check if all movie IDs in the filtered BPR_val_0.tsv exist in the cold_movies_vali_0.tsv\n",
    "merged_df = pd.concat([train_df, vali_df, test_df])\n",
    "print(merged_df.head())\n",
    "\n",
    "# Sorting by user id\n",
    "sorted_df = merged_df.sort_values(by='uid')\n",
    "sorted_df.reset_index(drop=True, inplace=True)\n",
    "\n",
    "sorted_df.head()"
   ]
  },
  {
   "cell_type": "code",
   "execution_count": 67,
   "metadata": {},
   "outputs": [],
   "source": [
    "sorted_df.to_csv('data\\ML25M\\BPR_cv\\BPR_all_0.tsv', sep='\\t', index=False)"
   ]
  },
  {
   "cell_type": "code",
   "execution_count": 68,
   "metadata": {},
   "outputs": [
    {
     "name": "stdout",
     "output_type": "stream",
     "text": [
      "   uid   mid  rating\n",
      "0    0   292     3.5\n",
      "1    0  6808     4.0\n",
      "2    0  6839     3.5\n",
      "3    0  7039     4.0\n",
      "4    0  7097     3.0\n"
     ]
    },
    {
     "data": {
      "text/html": [
       "<div>\n",
       "<style scoped>\n",
       "    .dataframe tbody tr th:only-of-type {\n",
       "        vertical-align: middle;\n",
       "    }\n",
       "\n",
       "    .dataframe tbody tr th {\n",
       "        vertical-align: top;\n",
       "    }\n",
       "\n",
       "    .dataframe thead th {\n",
       "        text-align: right;\n",
       "    }\n",
       "</style>\n",
       "<table border=\"1\" class=\"dataframe\">\n",
       "  <thead>\n",
       "    <tr style=\"text-align: right;\">\n",
       "      <th></th>\n",
       "      <th>uid</th>\n",
       "      <th>mid</th>\n",
       "      <th>rating</th>\n",
       "    </tr>\n",
       "  </thead>\n",
       "  <tbody>\n",
       "    <tr>\n",
       "      <th>0</th>\n",
       "      <td>0</td>\n",
       "      <td>292</td>\n",
       "      <td>3.5</td>\n",
       "    </tr>\n",
       "    <tr>\n",
       "      <th>1</th>\n",
       "      <td>0</td>\n",
       "      <td>985</td>\n",
       "      <td>4.0</td>\n",
       "    </tr>\n",
       "    <tr>\n",
       "      <th>2</th>\n",
       "      <td>0</td>\n",
       "      <td>293</td>\n",
       "      <td>5.0</td>\n",
       "    </tr>\n",
       "    <tr>\n",
       "      <th>3</th>\n",
       "      <td>0</td>\n",
       "      <td>6661</td>\n",
       "      <td>3.0</td>\n",
       "    </tr>\n",
       "    <tr>\n",
       "      <th>4</th>\n",
       "      <td>0</td>\n",
       "      <td>1134</td>\n",
       "      <td>3.5</td>\n",
       "    </tr>\n",
       "  </tbody>\n",
       "</table>\n",
       "</div>"
      ],
      "text/plain": [
       "   uid   mid  rating\n",
       "0    0   292     3.5\n",
       "1    0   985     4.0\n",
       "2    0   293     5.0\n",
       "3    0  6661     3.0\n",
       "4    0  1134     3.5"
      ]
     },
     "execution_count": 68,
     "metadata": {},
     "output_type": "execute_result"
    }
   ],
   "source": [
    "import pandas as pd\n",
    "\n",
    "nonzero_path = 'data\\ML25M\\BPR_cv\\BPR_all_0.tsv'\n",
    "zero_path = 'data\\ML25M\\BPR_cv\\cold_movies_rating_all_0.tsv'\n",
    "\n",
    "# Reload the cold_movies_vali_0.tsv file without the header\n",
    "df1 = pd.read_csv(nonzero_path, sep='\\t', header=0)\n",
    "df2 = pd.read_csv(zero_path, sep='\\t', header=0)\n",
    "\n",
    "# Check if all movie IDs in the filtered BPR_val_0.tsv exist in the cold_movies_vali_0.tsv\n",
    "merged_df = pd.concat([df1, df2])\n",
    "print(merged_df.head())\n",
    "\n",
    "# Sorting by user id\n",
    "sorted_df = merged_df.sort_values(by='uid')\n",
    "sorted_df.reset_index(drop=True, inplace=True)\n",
    "\n",
    "sorted_df.head()"
   ]
  },
  {
   "cell_type": "code",
   "execution_count": 3,
   "metadata": {},
   "outputs": [
    {
     "ename": "NameError",
     "evalue": "name 'sorted_df' is not defined",
     "output_type": "error",
     "traceback": [
      "\u001b[1;31m---------------------------------------------------------------------------\u001b[0m",
      "\u001b[1;31mNameError\u001b[0m                                 Traceback (most recent call last)",
      "Cell \u001b[1;32mIn[3], line 1\u001b[0m\n\u001b[1;32m----> 1\u001b[0m \u001b[43msorted_df\u001b[49m\u001b[38;5;241m.\u001b[39mto_csv(\u001b[38;5;124m'\u001b[39m\u001b[38;5;124mdata\u001b[39m\u001b[38;5;124m\\\u001b[39m\u001b[38;5;124mML25M\u001b[39m\u001b[38;5;124m\\\u001b[39m\u001b[38;5;124mBPR_cv\u001b[39m\u001b[38;5;124m\\\u001b[39m\u001b[38;5;124mBPR_all_cold_all_0.tsv\u001b[39m\u001b[38;5;124m'\u001b[39m, sep\u001b[38;5;241m=\u001b[39m\u001b[38;5;124m'\u001b[39m\u001b[38;5;130;01m\\t\u001b[39;00m\u001b[38;5;124m'\u001b[39m, index\u001b[38;5;241m=\u001b[39m\u001b[38;5;28;01mFalse\u001b[39;00m)\n",
      "\u001b[1;31mNameError\u001b[0m: name 'sorted_df' is not defined"
     ]
    }
   ],
   "source": [
    "sorted_df.to_csv('data\\ML25M\\BPR_cv\\BPR_all_cold_all_0.tsv', sep='\\t', index=False)"
   ]
  },
  {
   "cell_type": "code",
   "execution_count": 21,
   "metadata": {},
   "outputs": [
    {
     "data": {
      "text/plain": [
       "(162540, 128)"
      ]
     },
     "execution_count": 21,
     "metadata": {},
     "output_type": "execute_result"
    }
   ],
   "source": [
    "data_path = 'data\\ML25M\\BPR_cv\\BPR_uvec_0.npy'\n",
    "user = np.load(data_path)\n",
    "len(user_embeddings)"
   ]
  },
  {
   "cell_type": "code",
   "execution_count": 125,
   "metadata": {},
   "outputs": [
    {
     "name": "stdout",
     "output_type": "stream",
     "text": [
      "20\n"
     ]
    }
   ],
   "source": [
    "cnt = 0\n",
    "for idx in [5813, 6865, 7178, 9013, 8311, 9262, 6741, 6430, 5243, 6510, 3720, 6805, 7346, 4592, 3541, 459, 6976, 3503, 10005, 12891, 7547, 5567, 2777, 222, 5805, 10607, 4486, 6483, 10749, 5031]:\n",
    "    if idx in mids:\n",
    "#        print(idx)\n",
    "        cnt += 1\n",
    "print(cnt)"
   ]
  },
  {
   "cell_type": "code",
   "execution_count": 127,
   "metadata": {},
   "outputs": [],
   "source": [
    "# Create a DataFrame\n",
    "df = pd.read_csv('data\\ML25M\\BPR_cv\\BPR_all_cold_all_0.tsv', sep='\\t')\n",
    "\n",
    "# Sort by 'uid' (keeping it as is) and 'rating' in descending order\n",
    "df_sorted = df.sort_values(by=['uid', 'rating'], ascending=[True, False])\n",
    "\n",
    "# Save the sorted DataFrame to a TSV file\n",
    "df_sorted.to_csv('data\\ML25M\\BPR_cv\\BPR_all_cold_all_0.tsv', sep='\\t', index=False)"
   ]
  },
  {
   "cell_type": "code",
   "execution_count": 128,
   "metadata": {},
   "outputs": [],
   "source": [
    "# Create a DataFrame\n",
    "df = pd.read_csv('data\\ML25M\\BPR_cv\\BPR_all_0.tsv', sep='\\t')\n",
    "\n",
    "# Sort by 'uid' (keeping it as is) and 'rating' in descending order\n",
    "df_sorted = df.sort_values(by=['uid', 'rating'], ascending=[True, False])\n",
    "\n",
    "# Save the sorted DataFrame to a TSV file\n",
    "df_sorted.to_csv('data\\ML25M\\BPR_cv\\BPR_all_0.tsv', sep='\\t', index=False)"
   ]
  },
  {
   "cell_type": "code",
   "execution_count": 129,
   "metadata": {},
   "outputs": [],
   "source": [
    "# Create a DataFrame\n",
    "df = pd.read_csv('data\\ML25M\\BPR_cv\\cold_movies_rating_all_0.tsv', sep='\\t')\n",
    "\n",
    "# Sort by 'uid' (keeping it as is) and 'rating' in descending order\n",
    "df_sorted = df.sort_values(by=['uid', 'rating'], ascending=[True, False])\n",
    "\n",
    "# Save the sorted DataFrame to a TSV file\n",
    "df_sorted.to_csv('data\\ML25M\\BPR_cv\\cold_movies_rating_all_0.tsv', sep='\\t', index=False)"
   ]
  },
  {
   "cell_type": "code",
   "execution_count": 132,
   "metadata": {},
   "outputs": [
    {
     "ename": "AttributeError",
     "evalue": "'list' object has no attribute 'size'",
     "output_type": "error",
     "traceback": [
      "\u001b[1;31m---------------------------------------------------------------------------\u001b[0m",
      "\u001b[1;31mAttributeError\u001b[0m                            Traceback (most recent call last)",
      "Cell \u001b[1;32mIn[132], line 2\u001b[0m\n\u001b[0;32m      1\u001b[0m a \u001b[38;5;241m=\u001b[39m [[\u001b[38;5;241m1\u001b[39m,\u001b[38;5;241m2\u001b[39m,\u001b[38;5;241m3\u001b[39m,\u001b[38;5;241m4\u001b[39m], [\u001b[38;5;241m12\u001b[39m,\u001b[38;5;241m13\u001b[39m,\u001b[38;5;241m4\u001b[39m,\u001b[38;5;241m5\u001b[39m]]\n\u001b[1;32m----> 2\u001b[0m \u001b[43ma\u001b[49m\u001b[38;5;241;43m.\u001b[39;49m\u001b[43msize\u001b[49m\n",
      "\u001b[1;31mAttributeError\u001b[0m: 'list' object has no attribute 'size'"
     ]
    }
   ],
   "source": [
    "a = [[1,2,3,4], [12,13,4,5]]\n",
    "a.size"
   ]
  },
  {
   "cell_type": "code",
   "execution_count": 156,
   "metadata": {},
   "outputs": [
    {
     "name": "stdout",
     "output_type": "stream",
     "text": [
      "## tr ##\n",
      "interaction: 11581912 unique-users: 162473 unique-items: 11053\n",
      "max-user idx: 162539 / max-item idx:13815\n",
      "## val ##\n",
      "interaction: 1655248 unique-users: 154471 unique-items: 10979\n",
      "max-user idx: 162539 / max-item idx:13815\n",
      "## test ##\n",
      "interaction: 3311465 unique-users: 161095 unique-items: 11049\n",
      "max-user idx: 162539 / max-item idx:13815\n"
     ]
    }
   ],
   "source": [
    "data_list = ['tr', 'val', 'test']\n",
    "for seg in data_list:\n",
    "    interaction = pd.read_csv(f'data\\ML25M\\BPR_cv\\BPR_{seg}_0.tsv', sep='\\t')\n",
    "    users_idx = interaction['uid']\n",
    "    items_idx = interaction['mid']\n",
    "    print(f'## {seg} ##')\n",
    "    print('interaction:',len(items_idx), 'unique-users:', len(users_idx.unique()), 'unique-items:', len(items_idx.unique()))\n",
    "    print(f'max-user idx: {max(users_idx)} / max-item idx:{max(items_idx)}')"
   ]
  },
  {
   "cell_type": "code",
   "execution_count": 7,
   "metadata": {},
   "outputs": [
    {
     "name": "stdout",
     "output_type": "stream",
     "text": [
      "Index(['uid', 'mid', 'rating'], dtype='object')\n",
      "## vali ##\n",
      "interaction: 510530 unique-users: 53756 unique-items: 829\n",
      "max-user idx: 162538 / max-item idx:13814\n",
      "Index(['uid', 'mid', 'rating'], dtype='object')\n",
      "## test ##\n",
      "interaction: 3244323 unique-users: 160320 unique-items: 1934\n",
      "max-user idx: 162539 / max-item idx:9741\n"
     ]
    }
   ],
   "source": [
    "data_list = ['vali', 'test']\n",
    "for seg in data_list:\n",
    "    interaction = pd.read_csv(f'data\\ML25M\\BPR_cv\\cold_movies_rating_{seg}_0.tsv', sep='\\t')\n",
    "    users_idx = interaction['uid']\n",
    "    items_idx = interaction['mid']\n",
    "    print(f'## {seg} ##')\n",
    "    print('interaction:',len(items_idx), 'unique-users:', len(users_idx.unique()), 'unique-items:', len(items_idx.unique()))\n",
    "    print(f'max-user idx: {max(users_idx)} / max-item idx:{max(items_idx)}')"
   ]
  },
  {
   "cell_type": "code",
   "execution_count": 10,
   "metadata": {},
   "outputs": [
    {
     "name": "stdout",
     "output_type": "stream",
     "text": [
      "   uid   mid  rating\n",
      "0    0  1124     4.0\n",
      "1    0  1472     4.0\n",
      "2    0  2303     4.0\n",
      "3    0  2407     5.0\n",
      "4    0  3196     5.0\n"
     ]
    },
    {
     "data": {
      "text/html": [
       "<div>\n",
       "<style scoped>\n",
       "    .dataframe tbody tr th:only-of-type {\n",
       "        vertical-align: middle;\n",
       "    }\n",
       "\n",
       "    .dataframe tbody tr th {\n",
       "        vertical-align: top;\n",
       "    }\n",
       "\n",
       "    .dataframe thead th {\n",
       "        text-align: right;\n",
       "    }\n",
       "</style>\n",
       "<table border=\"1\" class=\"dataframe\">\n",
       "  <thead>\n",
       "    <tr style=\"text-align: right;\">\n",
       "      <th></th>\n",
       "      <th>uid</th>\n",
       "      <th>mid</th>\n",
       "      <th>rating</th>\n",
       "    </tr>\n",
       "  </thead>\n",
       "  <tbody>\n",
       "    <tr>\n",
       "      <th>0</th>\n",
       "      <td>0</td>\n",
       "      <td>2407</td>\n",
       "      <td>5.0</td>\n",
       "    </tr>\n",
       "    <tr>\n",
       "      <th>1</th>\n",
       "      <td>0</td>\n",
       "      <td>3196</td>\n",
       "      <td>5.0</td>\n",
       "    </tr>\n",
       "    <tr>\n",
       "      <th>2</th>\n",
       "      <td>0</td>\n",
       "      <td>3885</td>\n",
       "      <td>5.0</td>\n",
       "    </tr>\n",
       "    <tr>\n",
       "      <th>3</th>\n",
       "      <td>0</td>\n",
       "      <td>618</td>\n",
       "      <td>5.0</td>\n",
       "    </tr>\n",
       "    <tr>\n",
       "      <th>4</th>\n",
       "      <td>0</td>\n",
       "      <td>5896</td>\n",
       "      <td>5.0</td>\n",
       "    </tr>\n",
       "  </tbody>\n",
       "</table>\n",
       "</div>"
      ],
      "text/plain": [
       "   uid   mid  rating\n",
       "0    0  2407     5.0\n",
       "1    0  3196     5.0\n",
       "2    0  3885     5.0\n",
       "3    0   618     5.0\n",
       "4    0  5896     5.0"
      ]
     },
     "execution_count": 10,
     "metadata": {},
     "output_type": "execute_result"
    }
   ],
   "source": [
    "import pandas as pd\n",
    "\n",
    "nonzero_path = 'data\\ML25M\\BPR_cv\\BPR_test_0.tsv'\n",
    "zero_path = 'data\\ML25M\\BPR_cv\\cold_movies_rating_all_0.tsv'\n",
    "\n",
    "# Reload the cold_movies_vali_0.tsv file without the header\n",
    "df1 = pd.read_csv(nonzero_path, sep='\\t', header=0)\n",
    "df2 = pd.read_csv(zero_path, sep='\\t', header=0)\n",
    "\n",
    "# Check if all movie IDs in the filtered BPR_val_0.tsv exist in the cold_movies_vali_0.tsv\n",
    "merged_df = pd.concat([df1, df2])\n",
    "print(merged_df.head())\n",
    "\n",
    "# Sorting by user id\n",
    "sorted_df = merged_df.sort_values(by=['uid', 'rating', 'uid'], ascending=[True, False, True])\n",
    "sorted_df.reset_index(drop=True, inplace=True)\n",
    "\n",
    "sorted_df.head()"
   ]
  },
  {
   "cell_type": "code",
   "execution_count": 11,
   "metadata": {},
   "outputs": [],
   "source": [
    "sorted_df.to_csv('data\\ML25M\\BPR_cv\\BPR_test_cold_all_0.tsv', sep='\\t', index=False)"
   ]
  }
 ],
 "metadata": {
  "kernelspec": {
   "display_name": "Python 3.8.12 ('daero')",
   "language": "python",
   "name": "python3"
  },
  "language_info": {
   "codemirror_mode": {
    "name": "ipython",
    "version": 3
   },
   "file_extension": ".py",
   "mimetype": "text/x-python",
   "name": "python",
   "nbconvert_exporter": "python",
   "pygments_lexer": "ipython3",
   "version": "3.8.12"
  },
  "vscode": {
   "interpreter": {
    "hash": "5a1908709e1030e0adc91784846aa75d93e321834b2e9c6275b0fdbfe3c7a89f"
   }
  }
 },
 "nbformat": 4,
 "nbformat_minor": 2
}
