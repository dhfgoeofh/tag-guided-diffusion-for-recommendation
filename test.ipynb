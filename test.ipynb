{
 "cells": [
  {
   "cell_type": "code",
   "execution_count": 2,
   "metadata": {},
   "outputs": [],
   "source": [
    "import numpy as np"
   ]
  },
  {
   "cell_type": "code",
   "execution_count": 11,
   "metadata": {},
   "outputs": [
    {
     "name": "stdout",
     "output_type": "stream",
     "text": [
      "(array([   14,    22,    23, ..., 13806, 13808, 13810], dtype=int64),)\n",
      "0으로만 채워진 임베딩 벡터가 2764개 있습니다.\n",
      "0으로만 채워진 임베딩 벡터가 없습니다.\n"
     ]
    }
   ],
   "source": [
    "data_path = 'data\\ML25M\\BPR_cv\\BPR_ivec_4.npy'\n",
    "item = np.load(data_path)\n",
    "zero_embeddings = np.all(item == 0, axis=1)\n",
    "if np.any(zero_embeddings):\n",
    "    print(np.where(zero_embeddings == True))\n",
    "    print(f\"0으로만 채워진 임베딩 벡터가 {np.sum(zero_embeddings)}개 있습니다.\")\n",
    "else:\n",
    "    print(\"0으로만 채워진 임베딩 벡터가 없습니다.\")\n",
    "\n",
    "\n",
    "data_path = 'data/ML25M/mv-tag-emb.npy'\n",
    "tag = np.load(data_path)\n",
    "zero_embeddings = np.all(tag == 0, axis=1)\n",
    "\n",
    "if np.any(zero_embeddings):\n",
    "    print(zero_embeddings.index(True))\n",
    "    print(f\"0으로만 채워진 임베딩 벡터가 {np.sum(zero_embeddings)}개 있습니다.\")\n",
    "else:\n",
    "    print(\"0으로만 채워진 임베딩 벡터가 없습니다.\")"
   ]
  },
  {
   "cell_type": "code",
   "execution_count": 15,
   "metadata": {},
   "outputs": [
    {
     "name": "stdout",
     "output_type": "stream",
     "text": [
      "0으로만 채워진 임베딩 벡터가 2764개 있습니다.\n"
     ]
    },
    {
     "data": {
      "text/plain": [
       "(2764, 128)"
      ]
     },
     "execution_count": 15,
     "metadata": {},
     "output_type": "execute_result"
    }
   ],
   "source": [
    "data_path = 'data\\ML25M\\BPR_cv\\BPR_ivec_4.npy'\n",
    "data = np.load(data_path)\n",
    "zero_embeddings = np.all(data == 0, axis=1)\n",
    "if np.any(zero_embeddings):\n",
    "    print(f\"0으로만 채워진 임베딩 벡터가 {np.sum(zero_embeddings)}개 있습니다.\")\n",
    "else:\n",
    "    print(\"0으로만 채워진 임베딩 벡터가 없습니다.\")\n",
    "\n",
    "data[zero_embeddings].shape"
   ]
  },
  {
   "cell_type": "code",
   "execution_count": 5,
   "metadata": {},
   "outputs": [
    {
     "data": {
      "text/plain": [
       "tensor([3, 6, 9, 3, 0, 8, 7, 3])"
      ]
     },
     "execution_count": 5,
     "metadata": {},
     "output_type": "execute_result"
    }
   ],
   "source": [
    "import torch\n",
    "num_classes = 10\n",
    "torch.randint(0, num_classes, (8,))"
   ]
  },
  {
   "cell_type": "code",
   "execution_count": 10,
   "metadata": {},
   "outputs": [
    {
     "data": {
      "text/plain": [
       "array([[-0.06682408,  0.34707013, -0.3154866 , ...,  0.38255832,\n",
       "        -0.07169646,  0.3006588 ],\n",
       "       [-0.02712425,  0.24701644, -0.22818725, ...,  0.18251069,\n",
       "        -0.07793371,  0.27911147],\n",
       "       [ 0.08703583,  0.13494784, -0.38311225, ...,  0.10247398,\n",
       "         0.15477848,  0.26990607],\n",
       "       ...,\n",
       "       [-0.05939461, -0.41062385,  0.45251924, ...,  0.30205137,\n",
       "         0.06413885, -0.17306776],\n",
       "       [ 0.        ,  0.        ,  0.        , ...,  0.        ,\n",
       "         0.        ,  0.        ],\n",
       "       [-0.07361117, -0.38024035,  0.36830074, ...,  0.12259404,\n",
       "         0.08729994, -0.14923485]], dtype=float32)"
      ]
     },
     "execution_count": 10,
     "metadata": {},
     "output_type": "execute_result"
    }
   ],
   "source": [
    "data_path = 'data\\ML25M\\BPR_cv\\BPR_ivec_0.npy'\n",
    "item = np.load(data_path)\n",
    "item"
   ]
  },
  {
   "cell_type": "code",
   "execution_count": 19,
   "metadata": {},
   "outputs": [
    {
     "data": {
      "text/plain": [
       "array([[ 4407, 10285,  2094, ..., 10580,  9385, 12384],\n",
       "       [ 1777,  3122,   148, ...,  6619,  1804,  1767],\n",
       "       [  411,  6352,  4726, ...,  1608,  2507,  4538],\n",
       "       ...,\n",
       "       [13573, 13460, 13515, ..., 13465, 13778, 13476],\n",
       "       [13051, 13811, 13179, ...,  8158,  8931, 13414],\n",
       "       [13749, 13556, 13615, ..., 13725, 13770, 13685]])"
      ]
     },
     "execution_count": 19,
     "metadata": {},
     "output_type": "execute_result"
    }
   ],
   "source": [
    "data_path = 'data\\ML25M\\BPR_cv/top_k_nn_item_index_0.npy'\n",
    "data = np.load(data_path)\n",
    "data"
   ]
  },
  {
   "cell_type": "code",
   "execution_count": 12,
   "metadata": {},
   "outputs": [
    {
     "data": {
      "text/plain": [
       "array([[0.92558926, 0.8924986 , 0.8855711 , ..., 0.8003852 , 0.79656696,\n",
       "        0.7956278 ],\n",
       "       [0.8053264 , 0.76107544, 0.74586433, ..., 0.6705703 , 0.66925853,\n",
       "        0.6677883 ],\n",
       "       [0.93699753, 0.87973094, 0.8765104 , ..., 0.8338019 , 0.83178204,\n",
       "        0.8297069 ],\n",
       "       ...,\n",
       "       [0.7442296 , 0.73323685, 0.7276896 , ..., 0.7041369 , 0.7025748 ,\n",
       "        0.6957799 ],\n",
       "       [0.7459877 , 0.7294137 , 0.68902755, ..., 0.64137644, 0.6393935 ,\n",
       "        0.63892084],\n",
       "       [0.7453746 , 0.74030876, 0.7391306 , ..., 0.7047485 , 0.6827469 ,\n",
       "        0.6795477 ]], dtype=float32)"
      ]
     },
     "execution_count": 12,
     "metadata": {},
     "output_type": "execute_result"
    }
   ],
   "source": [
    "data_path = 'data\\ML25M\\BPR_cv/top_k_nn_item_sim_0.npy'\n",
    "data = np.load(data_path)\n",
    "data"
   ]
  },
  {
   "cell_type": "code",
   "execution_count": 49,
   "metadata": {},
   "outputs": [
    {
     "name": "stdout",
     "output_type": "stream",
     "text": [
      "   uid   mid  rating\n",
      "0    2  9844     4.0\n",
      "1    2  9925     4.5\n",
      "2    2  9931     4.0\n",
      "3    2  9956     4.0\n",
      "4    2  9966     4.0\n"
     ]
    },
    {
     "data": {
      "text/html": [
       "<div>\n",
       "<style scoped>\n",
       "    .dataframe tbody tr th:only-of-type {\n",
       "        vertical-align: middle;\n",
       "    }\n",
       "\n",
       "    .dataframe tbody tr th {\n",
       "        vertical-align: top;\n",
       "    }\n",
       "\n",
       "    .dataframe thead th {\n",
       "        text-align: right;\n",
       "    }\n",
       "</style>\n",
       "<table border=\"1\" class=\"dataframe\">\n",
       "  <thead>\n",
       "    <tr style=\"text-align: right;\">\n",
       "      <th></th>\n",
       "      <th>uid</th>\n",
       "      <th>mid</th>\n",
       "      <th>rating</th>\n",
       "    </tr>\n",
       "  </thead>\n",
       "  <tbody>\n",
       "    <tr>\n",
       "      <th>0</th>\n",
       "      <td>0</td>\n",
       "      <td>618</td>\n",
       "      <td>5.0</td>\n",
       "    </tr>\n",
       "    <tr>\n",
       "      <th>1</th>\n",
       "      <td>0</td>\n",
       "      <td>6697</td>\n",
       "      <td>3.5</td>\n",
       "    </tr>\n",
       "    <tr>\n",
       "      <th>2</th>\n",
       "      <td>0</td>\n",
       "      <td>6664</td>\n",
       "      <td>4.5</td>\n",
       "    </tr>\n",
       "    <tr>\n",
       "      <th>3</th>\n",
       "      <td>0</td>\n",
       "      <td>6396</td>\n",
       "      <td>3.5</td>\n",
       "    </tr>\n",
       "    <tr>\n",
       "      <th>4</th>\n",
       "      <td>0</td>\n",
       "      <td>6330</td>\n",
       "      <td>4.5</td>\n",
       "    </tr>\n",
       "  </tbody>\n",
       "</table>\n",
       "</div>"
      ],
      "text/plain": [
       "   uid   mid  rating\n",
       "0    0   618     5.0\n",
       "1    0  6697     3.5\n",
       "2    0  6664     4.5\n",
       "3    0  6396     3.5\n",
       "4    0  6330     4.5"
      ]
     },
     "execution_count": 49,
     "metadata": {},
     "output_type": "execute_result"
    }
   ],
   "source": [
    "import pandas as pd\n",
    "\n",
    "val_path = 'data\\ML25M\\BPR_cv\\BPR_val_0.tsv'\n",
    "bpr_val = pd.read_csv(val_path, sep='\\t', header=0)\n",
    "\n",
    "cold_movies_vali_path = 'data\\ML25M\\BPR_cv\\cold_movies_rating_vali_0.tsv'\n",
    "cold_movies_test_path = 'data\\ML25M\\BPR_cv\\cold_movies_rating_test_0.tsv'\n",
    "# Reload the cold_movies_vali_0.tsv file without the header\n",
    "vali_df = pd.read_csv(cold_movies_vali_path, sep='\\t', header=0)\n",
    "test_df = pd.read_csv(cold_movies_test_path, sep='\\t', header=0)\n",
    "\n",
    "# Check if all movie IDs in the filtered BPR_val_0.tsv exist in the cold_movies_vali_0.tsv\n",
    "merged_df = pd.concat([vali_df, test_df])\n",
    "print(merged_df.head())\n",
    "\n",
    "# Sorting by user id\n",
    "sorted_df = merged_df.sort_values(by='uid')\n",
    "sorted_df.reset_index(drop=True, inplace=True)\n",
    "\n",
    "sorted_df.head()"
   ]
  },
  {
   "cell_type": "code",
   "execution_count": 50,
   "metadata": {},
   "outputs": [],
   "source": [
    "sorted_df.to_csv('data\\ML25M\\BPR_cv\\cold_movies_rating_all_0.tsv', sep='\\t', index=False)"
   ]
  },
  {
   "cell_type": "code",
   "execution_count": 33,
   "metadata": {},
   "outputs": [
    {
     "data": {
      "text/plain": [
       "0       9744\n",
       "1       9750\n",
       "2       9761\n",
       "3       9762\n",
       "4       9771\n",
       "       ...  \n",
       "824    13783\n",
       "825    13784\n",
       "826    13785\n",
       "827    13809\n",
       "828    13814\n",
       "Name: mid, Length: 829, dtype: int32"
      ]
     },
     "execution_count": 33,
     "metadata": {},
     "output_type": "execute_result"
    }
   ],
   "source": [
    "cold_movie_ids = cold_movies_vali_df['mid'].astype(int)\n",
    "cold_movie_ids"
   ]
  },
  {
   "cell_type": "code",
   "execution_count": 39,
   "metadata": {},
   "outputs": [
    {
     "data": {
      "text/plain": [
       "(10979,)"
      ]
     },
     "execution_count": 39,
     "metadata": {},
     "output_type": "execute_result"
    }
   ],
   "source": [
    "bpr_movie_ids.unique().shape"
   ]
  },
  {
   "cell_type": "code",
   "execution_count": null,
   "metadata": {},
   "outputs": [],
   "source": []
  }
 ],
 "metadata": {
  "kernelspec": {
   "display_name": "Python 3.8.12 ('daero')",
   "language": "python",
   "name": "python3"
  },
  "language_info": {
   "codemirror_mode": {
    "name": "ipython",
    "version": 3
   },
   "file_extension": ".py",
   "mimetype": "text/x-python",
   "name": "python",
   "nbconvert_exporter": "python",
   "pygments_lexer": "ipython3",
   "version": "3.11.8"
  },
  "vscode": {
   "interpreter": {
    "hash": "5a1908709e1030e0adc91784846aa75d93e321834b2e9c6275b0fdbfe3c7a89f"
   }
  }
 },
 "nbformat": 4,
 "nbformat_minor": 2
}
