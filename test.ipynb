{
 "cells": [
  {
   "cell_type": "code",
   "execution_count": 65,
   "metadata": {},
   "outputs": [],
   "source": [
    "import numpy as np\n",
    "import pandas as pd"
   ]
  },
  {
   "cell_type": "code",
   "execution_count": 11,
   "metadata": {},
   "outputs": [
    {
     "name": "stdout",
     "output_type": "stream",
     "text": [
      "(array([   14,    22,    23, ..., 13806, 13808, 13810], dtype=int64),)\n",
      "0으로만 채워진 임베딩 벡터가 2764개 있습니다.\n",
      "0으로만 채워진 임베딩 벡터가 없습니다.\n"
     ]
    }
   ],
   "source": [
    "data_path = 'data\\ML25M\\BPR_cv\\BPR_ivec_4.npy'\n",
    "item = np.load(data_path)\n",
    "zero_embeddings = np.all(item == 0, axis=1)\n",
    "if np.any(zero_embeddings):\n",
    "    print(np.where(zero_embeddings == True))\n",
    "    print(f\"0으로만 채워진 임베딩 벡터가 {np.sum(zero_embeddings)}개 있습니다.\")\n",
    "else:\n",
    "    print(\"0으로만 채워진 임베딩 벡터가 없습니다.\")\n",
    "\n",
    "\n",
    "data_path = 'data/ML25M/mv-tag-emb.npy'\n",
    "tag = np.load(data_path)\n",
    "zero_embeddings = np.all(tag == 0, axis=1)\n",
    "\n",
    "if np.any(zero_embeddings):\n",
    "    print(zero_embeddings.index(True))\n",
    "    print(f\"0으로만 채워진 임베딩 벡터가 {np.sum(zero_embeddings)}개 있습니다.\")\n",
    "else:\n",
    "    print(\"0으로만 채워진 임베딩 벡터가 없습니다.\")"
   ]
  },
  {
   "cell_type": "code",
   "execution_count": 62,
   "metadata": {},
   "outputs": [],
   "source": [
    "data_path = 'data\\ML25M\\BPR_cv\\BPR_ivec_0.npy'\n",
    "items = np.load(data_path)\n",
    "min_val = np.inf\n",
    "max_val = -np.inf\n",
    "for item in items:\n",
    "    if min_val > min(item):\n",
    "        min_val = min(item)\n",
    "\n",
    "    if max_val < max(item):\n",
    "        max_val = max(item)"
   ]
  },
  {
   "cell_type": "code",
   "execution_count": 66,
   "metadata": {},
   "outputs": [
    {
     "name": "stdout",
     "output_type": "stream",
     "text": [
      "   uid   mid  rating\n",
      "0    0   292     3.5\n",
      "1    0   293     5.0\n",
      "2    0   985     4.0\n",
      "3    0  1054     3.5\n",
      "4    0  1093     3.5\n"
     ]
    },
    {
     "data": {
      "text/html": [
       "<div>\n",
       "<style scoped>\n",
       "    .dataframe tbody tr th:only-of-type {\n",
       "        vertical-align: middle;\n",
       "    }\n",
       "\n",
       "    .dataframe tbody tr th {\n",
       "        vertical-align: top;\n",
       "    }\n",
       "\n",
       "    .dataframe thead th {\n",
       "        text-align: right;\n",
       "    }\n",
       "</style>\n",
       "<table border=\"1\" class=\"dataframe\">\n",
       "  <thead>\n",
       "    <tr style=\"text-align: right;\">\n",
       "      <th></th>\n",
       "      <th>uid</th>\n",
       "      <th>mid</th>\n",
       "      <th>rating</th>\n",
       "    </tr>\n",
       "  </thead>\n",
       "  <tbody>\n",
       "    <tr>\n",
       "      <th>0</th>\n",
       "      <td>0</td>\n",
       "      <td>292</td>\n",
       "      <td>3.5</td>\n",
       "    </tr>\n",
       "    <tr>\n",
       "      <th>1</th>\n",
       "      <td>0</td>\n",
       "      <td>6808</td>\n",
       "      <td>4.0</td>\n",
       "    </tr>\n",
       "    <tr>\n",
       "      <th>2</th>\n",
       "      <td>0</td>\n",
       "      <td>6839</td>\n",
       "      <td>3.5</td>\n",
       "    </tr>\n",
       "    <tr>\n",
       "      <th>3</th>\n",
       "      <td>0</td>\n",
       "      <td>7039</td>\n",
       "      <td>4.0</td>\n",
       "    </tr>\n",
       "    <tr>\n",
       "      <th>4</th>\n",
       "      <td>0</td>\n",
       "      <td>7097</td>\n",
       "      <td>3.0</td>\n",
       "    </tr>\n",
       "  </tbody>\n",
       "</table>\n",
       "</div>"
      ],
      "text/plain": [
       "   uid   mid  rating\n",
       "0    0   292     3.5\n",
       "1    0  6808     4.0\n",
       "2    0  6839     3.5\n",
       "3    0  7039     4.0\n",
       "4    0  7097     3.0"
      ]
     },
     "execution_count": 66,
     "metadata": {},
     "output_type": "execute_result"
    }
   ],
   "source": [
    "import pandas as pd\n",
    "\n",
    "train_path = 'data\\ML25M\\BPR_cv\\BPR_tr_0.tsv'\n",
    "vali_path = 'data\\ML25M\\BPR_cv\\BPR_val_0.tsv'\n",
    "test_path = 'data\\ML25M\\BPR_cv\\BPR_test_0.tsv'\n",
    "# Reload the cold_movies_vali_0.tsv file without the header\n",
    "train_df = pd.read_csv(train_path, sep='\\t', header=0)\n",
    "vali_df = pd.read_csv(vali_path, sep='\\t', header=0)\n",
    "test_df = pd.read_csv(test_path, sep='\\t', header=0)\n",
    "\n",
    "# Check if all movie IDs in the filtered BPR_val_0.tsv exist in the cold_movies_vali_0.tsv\n",
    "merged_df = pd.concat([train_df, vali_df, test_df])\n",
    "print(merged_df.head())\n",
    "\n",
    "# Sorting by user id\n",
    "sorted_df = merged_df.sort_values(by='uid')\n",
    "sorted_df.reset_index(drop=True, inplace=True)\n",
    "\n",
    "sorted_df.head()"
   ]
  },
  {
   "cell_type": "code",
   "execution_count": 67,
   "metadata": {},
   "outputs": [],
   "source": [
    "sorted_df.to_csv('data\\ML25M\\BPR_cv\\BPR_all_0.tsv', sep='\\t', index=False)"
   ]
  },
  {
   "cell_type": "code",
   "execution_count": 68,
   "metadata": {},
   "outputs": [
    {
     "name": "stdout",
     "output_type": "stream",
     "text": [
      "   uid   mid  rating\n",
      "0    0   292     3.5\n",
      "1    0  6808     4.0\n",
      "2    0  6839     3.5\n",
      "3    0  7039     4.0\n",
      "4    0  7097     3.0\n"
     ]
    },
    {
     "data": {
      "text/html": [
       "<div>\n",
       "<style scoped>\n",
       "    .dataframe tbody tr th:only-of-type {\n",
       "        vertical-align: middle;\n",
       "    }\n",
       "\n",
       "    .dataframe tbody tr th {\n",
       "        vertical-align: top;\n",
       "    }\n",
       "\n",
       "    .dataframe thead th {\n",
       "        text-align: right;\n",
       "    }\n",
       "</style>\n",
       "<table border=\"1\" class=\"dataframe\">\n",
       "  <thead>\n",
       "    <tr style=\"text-align: right;\">\n",
       "      <th></th>\n",
       "      <th>uid</th>\n",
       "      <th>mid</th>\n",
       "      <th>rating</th>\n",
       "    </tr>\n",
       "  </thead>\n",
       "  <tbody>\n",
       "    <tr>\n",
       "      <th>0</th>\n",
       "      <td>0</td>\n",
       "      <td>292</td>\n",
       "      <td>3.5</td>\n",
       "    </tr>\n",
       "    <tr>\n",
       "      <th>1</th>\n",
       "      <td>0</td>\n",
       "      <td>985</td>\n",
       "      <td>4.0</td>\n",
       "    </tr>\n",
       "    <tr>\n",
       "      <th>2</th>\n",
       "      <td>0</td>\n",
       "      <td>293</td>\n",
       "      <td>5.0</td>\n",
       "    </tr>\n",
       "    <tr>\n",
       "      <th>3</th>\n",
       "      <td>0</td>\n",
       "      <td>6661</td>\n",
       "      <td>3.0</td>\n",
       "    </tr>\n",
       "    <tr>\n",
       "      <th>4</th>\n",
       "      <td>0</td>\n",
       "      <td>1134</td>\n",
       "      <td>3.5</td>\n",
       "    </tr>\n",
       "  </tbody>\n",
       "</table>\n",
       "</div>"
      ],
      "text/plain": [
       "   uid   mid  rating\n",
       "0    0   292     3.5\n",
       "1    0   985     4.0\n",
       "2    0   293     5.0\n",
       "3    0  6661     3.0\n",
       "4    0  1134     3.5"
      ]
     },
     "execution_count": 68,
     "metadata": {},
     "output_type": "execute_result"
    }
   ],
   "source": [
    "import pandas as pd\n",
    "\n",
    "nonzero_path = 'data\\ML25M\\BPR_cv\\BPR_all_0.tsv'\n",
    "zero_path = 'data\\ML25M\\BPR_cv\\cold_movies_rating_all_0.tsv'\n",
    "\n",
    "# Reload the cold_movies_vali_0.tsv file without the header\n",
    "df1 = pd.read_csv(nonzero_path, sep='\\t', header=0)\n",
    "df2 = pd.read_csv(zero_path, sep='\\t', header=0)\n",
    "\n",
    "# Check if all movie IDs in the filtered BPR_val_0.tsv exist in the cold_movies_vali_0.tsv\n",
    "merged_df = pd.concat([df1, df2])\n",
    "print(merged_df.head())\n",
    "\n",
    "# Sorting by user id\n",
    "sorted_df = merged_df.sort_values(by='uid')\n",
    "sorted_df.reset_index(drop=True, inplace=True)\n",
    "\n",
    "sorted_df.head()"
   ]
  },
  {
   "cell_type": "code",
   "execution_count": 69,
   "metadata": {},
   "outputs": [],
   "source": [
    "sorted_df.to_csv('data\\ML25M\\BPR_cv\\BPR_all_cold_all_0.tsv', sep='\\t', index=False)"
   ]
  },
  {
   "cell_type": "code",
   "execution_count": 21,
   "metadata": {},
   "outputs": [
    {
     "data": {
      "text/plain": [
       "(162540, 128)"
      ]
     },
     "execution_count": 21,
     "metadata": {},
     "output_type": "execute_result"
    }
   ],
   "source": [
    "data_path = 'data\\ML25M\\BPR_cv\\BPR_uvec_0.npy'\n",
    "user = np.load(data_path)\n",
    "len(user_embeddings)"
   ]
  },
  {
   "cell_type": "code",
   "execution_count": 10,
   "metadata": {},
   "outputs": [],
   "source": [
    "ratings = pd.read_csv('data\\ML25M\\BPR_cv\\cold_movies_rating_all_0.tsv', sep='\\t')\n",
    "uids = set(ratings['uid'].unique())\n",
    "\n",
    "null_list = [idx for idx in range(len(user_embeddings)) if i not in uids]"
   ]
  },
  {
   "cell_type": "code",
   "execution_count": 11,
   "metadata": {},
   "outputs": [
    {
     "data": {
      "text/plain": [
       "950"
      ]
     },
     "execution_count": 11,
     "metadata": {},
     "output_type": "execute_result"
    }
   ],
   "source": [
    "len(null_list)"
   ]
  },
  {
   "cell_type": "code",
   "execution_count": 12,
   "metadata": {},
   "outputs": [
    {
     "data": {
      "text/plain": [
       "161590"
      ]
     },
     "execution_count": 12,
     "metadata": {},
     "output_type": "execute_result"
    }
   ],
   "source": [
    "len(uids)"
   ]
  },
  {
   "cell_type": "code",
   "execution_count": 77,
   "metadata": {},
   "outputs": [
    {
     "data": {
      "text/plain": [
       "array([[ 0,  1,  2,  3,  4,  5,  6,  7],\n",
       "       [ 8,  9, 10, 11, 12, 13, 14, 15],\n",
       "       [16, 17, 18, 19, 20, 21, 22, 23]])"
      ]
     },
     "execution_count": 77,
     "metadata": {},
     "output_type": "execute_result"
    }
   ],
   "source": [
    "user_embeddings = np.arange(0,24).reshape((3,8))\n",
    "user_embeddings"
   ]
  },
  {
   "cell_type": "code",
   "execution_count": 108,
   "metadata": {},
   "outputs": [
    {
     "data": {
      "text/plain": [
       "array([[0, 1, 2, 3, 4, 0, 1, 2],\n",
       "       [3, 4, 0, 1, 2, 3, 4, 0],\n",
       "       [1, 2, 3, 4, 0, 1, 2, 3],\n",
       "       [4, 0, 1, 2, 3, 4, 0, 1],\n",
       "       [2, 3, 4, 0, 1, 2, 3, 4]])"
      ]
     },
     "execution_count": 108,
     "metadata": {},
     "output_type": "execute_result"
    }
   ],
   "source": [
    "item_embeddings = [np.arange(0, 5)] * 8 \n",
    "item_embeddings = np.array(item_embeddings).reshape((5,8))\n",
    "item_embeddings"
   ]
  },
  {
   "cell_type": "code",
   "execution_count": 109,
   "metadata": {},
   "outputs": [
    {
     "data": {
      "text/plain": [
       "array([[ 50,  54,  58,  47,  71],\n",
       "       [154, 190, 186, 167, 223],\n",
       "       [258, 326, 314, 287, 375]])"
      ]
     },
     "execution_count": 109,
     "metadata": {},
     "output_type": "execute_result"
    }
   ],
   "source": [
    "scores = np.dot(user_embeddings, item_embeddings.T)\n",
    "scores"
   ]
  },
  {
   "cell_type": "code",
   "execution_count": 110,
   "metadata": {},
   "outputs": [
    {
     "data": {
      "text/plain": [
       "[[4, 2, 1], [4, 1, 2], [4, 1, 2]]"
      ]
     },
     "execution_count": 110,
     "metadata": {},
     "output_type": "execute_result"
    }
   ],
   "source": [
    "item_indices = np.argsort(scores, axis=1)[:, ::-1][:, :3].tolist()\n",
    "item_indices"
   ]
  },
  {
   "cell_type": "code",
   "execution_count": 111,
   "metadata": {},
   "outputs": [
    {
     "data": {
      "text/plain": [
       "array([[0],\n",
       "       [1],\n",
       "       [2]])"
      ]
     },
     "execution_count": 111,
     "metadata": {},
     "output_type": "execute_result"
    }
   ],
   "source": [
    "user_indices = np.arange(user_embeddings.shape[0])[:, None]\n",
    "user_indices"
   ]
  },
  {
   "cell_type": "code",
   "execution_count": 112,
   "metadata": {},
   "outputs": [
    {
     "data": {
      "text/plain": [
       "array([[ 71,  58,  54],\n",
       "       [223, 190, 186],\n",
       "       [375, 326, 314]])"
      ]
     },
     "execution_count": 112,
     "metadata": {},
     "output_type": "execute_result"
    }
   ],
   "source": [
    "top_k_scores = scores[user_indices, item_indices]\n",
    "top_k_scores"
   ]
  },
  {
   "cell_type": "code",
   "execution_count": 83,
   "metadata": {},
   "outputs": [
    {
     "data": {
      "text/plain": [
       "1100"
      ]
     },
     "execution_count": 83,
     "metadata": {},
     "output_type": "execute_result"
    }
   ],
   "source": [
    "1 + 4 + 9 + 16 + 25 + 36 + 49\n",
    "64 + 81 + 100 + 121 + 144 + 169 + 196 + 225"
   ]
  },
  {
   "cell_type": "code",
   "execution_count": 84,
   "metadata": {},
   "outputs": [
    {
     "data": {
      "text/plain": [
       "364"
      ]
     },
     "execution_count": 84,
     "metadata": {},
     "output_type": "execute_result"
    }
   ],
   "source": [
    "9 + 20 + 33 + 48 + 65 + 84 + 105"
   ]
  },
  {
   "cell_type": "code",
   "execution_count": null,
   "metadata": {},
   "outputs": [],
   "source": []
  }
 ],
 "metadata": {
  "kernelspec": {
   "display_name": "Python 3.8.12 ('daero')",
   "language": "python",
   "name": "python3"
  },
  "language_info": {
   "codemirror_mode": {
    "name": "ipython",
    "version": 3
   },
   "file_extension": ".py",
   "mimetype": "text/x-python",
   "name": "python",
   "nbconvert_exporter": "python",
   "pygments_lexer": "ipython3",
   "version": "3.8.12"
  },
  "vscode": {
   "interpreter": {
    "hash": "5a1908709e1030e0adc91784846aa75d93e321834b2e9c6275b0fdbfe3c7a89f"
   }
  }
 },
 "nbformat": 4,
 "nbformat_minor": 2
}
